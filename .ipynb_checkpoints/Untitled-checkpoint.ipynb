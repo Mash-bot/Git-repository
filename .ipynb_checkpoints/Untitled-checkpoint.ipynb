{
 "cells": [
  {
   "cell_type": "markdown",
   "id": "6180fcc6-b230-4a25-9215-5235e9fbaac3",
   "metadata": {},
   "source": [
    "# BMI calculator"
   ]
  },
  {
   "cell_type": "code",
   "execution_count": 8,
   "id": "2cae9ada-aee0-4486-ba1c-547c078abd8d",
   "metadata": {},
   "outputs": [
    {
     "name": "stdin",
     "output_type": "stream",
     "text": [
      "what is your name Shadrack\n"
     ]
    },
    {
     "name": "stdout",
     "output_type": "stream",
     "text": [
      "hello Shadrack welcome to the BMI calculator\n"
     ]
    }
   ],
   "source": [
    "Name = input('what is your name')\n",
    "print('hello', Name,'welcome to the BMI calculator')"
   ]
  },
  {
   "cell_type": "code",
   "execution_count": 17,
   "id": "9102e701-7357-4761-a2df-df8050841851",
   "metadata": {},
   "outputs": [
    {
     "name": "stdout",
     "output_type": "stream",
     "text": [
      "provide us with the information below\n"
     ]
    },
    {
     "name": "stdin",
     "output_type": "stream",
     "text": [
      "enter your weight: kgs 60\n",
      "enter your height: meters 1.8\n"
     ]
    },
    {
     "name": "stdout",
     "output_type": "stream",
     "text": [
      ".........BMI results..........\n",
      "your BMI is: 18.52 \n",
      "normal\n"
     ]
    }
   ],
   "source": [
    "print('provide us with the information below')\n",
    "weight = float(input('enter your weight: kgs'))\n",
    "height = float(input('enter your height: meters'))\n",
    "BMI = round(weight/(height * height),2)\n",
    "\n",
    "print ('.........BMI results..........')\n",
    "print(f'your BMI is: {BMI} ')\n",
    "\n",
    "if BMI > 25:\n",
    "    print('overweight')\n",
    "elif BMI < 18:\n",
    "    print ('underweight')\n",
    "else:\n",
    "    print('normal')"
   ]
  },
  {
   "cell_type": "code",
   "execution_count": null,
   "id": "469042a7-80f2-4988-90af-43782dc69ae5",
   "metadata": {},
   "outputs": [],
   "source": []
  }
 ],
 "metadata": {
  "kernelspec": {
   "display_name": "Python 3 (ipykernel)",
   "language": "python",
   "name": "python3"
  },
  "language_info": {
   "codemirror_mode": {
    "name": "ipython",
    "version": 3
   },
   "file_extension": ".py",
   "mimetype": "text/x-python",
   "name": "python",
   "nbconvert_exporter": "python",
   "pygments_lexer": "ipython3",
   "version": "3.11.3"
  }
 },
 "nbformat": 4,
 "nbformat_minor": 5
}
